{
 "cells": [
  {
   "cell_type": "code",
   "execution_count": 1,
   "metadata": {},
   "outputs": [
    {
     "name": "stdout",
     "output_type": "stream",
     "text": [
      "Requirement already satisfied: prettytable in c:\\users\\nath2\\anaconda3\\lib\\site-packages (2.1.0)\n",
      "Requirement already satisfied: importlib-metadata; python_version < \"3.8\" in c:\\users\\nath2\\anaconda3\\lib\\site-packages (from prettytable) (1.7.0)\n",
      "Requirement already satisfied: wcwidth in c:\\users\\nath2\\anaconda3\\lib\\site-packages (from prettytable) (0.1.7)\n",
      "Requirement already satisfied: zipp>=0.5 in c:\\users\\nath2\\anaconda3\\lib\\site-packages (from importlib-metadata; python_version < \"3.8\"->prettytable) (0.5.1)\n"
     ]
    }
   ],
   "source": [
    "! pip install prettytable "
   ]
  },
  {
   "cell_type": "code",
   "execution_count": 2,
   "metadata": {},
   "outputs": [
    {
     "name": "stdout",
     "output_type": "stream",
     "text": [
      "Enter the name of the student : GOKUL\n",
      "Enter the Std name :5\n",
      "Enter the section name : A\n",
      "Enter the Roll no. : 5636\n",
      "Enter the Science mark: 98\n",
      "Enter the Maths mark : 99\n",
      "Enter the French mark : 97\n",
      "+--------------+-----+---------+----------+---------+-------+--------+------------+\n",
      "| Student Name | Std | Section | Roll No. | Science | Maths | French | Percentage |\n",
      "+--------------+-----+---------+----------+---------+-------+--------+------------+\n",
      "|    GOKUL     |  5  |    A    |   5636   |    98   |   99  |   97   |   98.0%    |\n",
      "+--------------+-----+---------+----------+---------+-------+--------+------------+\n"
     ]
    }
   ],
   "source": [
    "from prettytable import PrettyTable \n",
    "Student_marksheet = PrettyTable([\"Student Name\", \"Std\", \"Section\",\"Roll No.\",\"Science\",\"Maths\",\"French\",\"Percentage\"]) \n",
    "Name = str(input(\"Enter the name of the student : \"))\n",
    "Class = str(input(\"Enter the Std name :\"))\n",
    "Section = str(input(\"Enter the section name : \"))\n",
    "Roll_no = int(input(\"Enter the Roll no. : \"))\n",
    "Science_mark = int(input(\"Enter the Science mark: \"))\n",
    "Maths_mark = int(input(\"Enter the Maths mark : \"))\n",
    "French_mark = int(input(\"Enter the French mark : \"))\n",
    "Percantage = round(((Science_mark+Maths_mark+French_mark)/3),2)\n",
    "Student_marksheet.add_row([Name, Class, Section, Roll_no, Science_mark, Maths_mark, French_mark, \"{}%\".format(Percantage)]) \n",
    "print(Student_marksheet)\n"
   ]
  },
  {
   "cell_type": "code",
   "execution_count": null,
   "metadata": {},
   "outputs": [],
   "source": []
  }
 ],
 "metadata": {
  "kernelspec": {
   "display_name": "Python 3",
   "language": "python",
   "name": "python3"
  },
  "language_info": {
   "codemirror_mode": {
    "name": "ipython",
    "version": 3
   },
   "file_extension": ".py",
   "mimetype": "text/x-python",
   "name": "python",
   "nbconvert_exporter": "python",
   "pygments_lexer": "ipython3",
   "version": "3.7.3"
  }
 },
 "nbformat": 4,
 "nbformat_minor": 2
}
